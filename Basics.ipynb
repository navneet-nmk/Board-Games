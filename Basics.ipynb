{
 "cells": [
  {
   "cell_type": "markdown",
   "metadata": {
    "collapsed": true
   },
   "source": [
    "# Board Games Analysis\n",
    "#### Predicting the rating for another board game"
   ]
  },
  {
   "cell_type": "code",
   "execution_count": 19,
   "metadata": {
    "collapsed": false
   },
   "outputs": [
    {
     "name": "stdout",
     "output_type": "stream",
     "text": [
      "       id       type                                       name  \\\n",
      "0   12333  boardgame                          Twilight Struggle   \n",
      "1  120677  boardgame                              Terra Mystica   \n",
      "2  102794  boardgame                  Caverna: The Cave Farmers   \n",
      "3   25613  boardgame  Through the Ages: A Story of Civilization   \n",
      "4    3076  boardgame                                Puerto Rico   \n",
      "\n",
      "   yearpublished  minplayers  maxplayers  playingtime  minplaytime  \\\n",
      "0         2005.0         2.0         2.0        180.0        180.0   \n",
      "1         2012.0         2.0         5.0        150.0         60.0   \n",
      "2         2013.0         1.0         7.0        210.0         30.0   \n",
      "3         2006.0         2.0         4.0        240.0        240.0   \n",
      "4         2002.0         2.0         5.0        150.0         90.0   \n",
      "\n",
      "   maxplaytime  minage  users_rated  average_rating  bayes_average_rating  \\\n",
      "0        180.0    13.0        20113         8.33774               8.22186   \n",
      "1        150.0    12.0        14383         8.28798               8.14232   \n",
      "2        210.0    12.0         9262         8.28994               8.06886   \n",
      "3        240.0    12.0        13294         8.20407               8.05804   \n",
      "4        150.0    12.0        39883         8.14261               8.04524   \n",
      "\n",
      "   total_owners  total_traders  total_wanters  total_wishers  total_comments  \\\n",
      "0         26647            372           1219           5865            5347   \n",
      "1         16519            132           1586           6277            2526   \n",
      "2         12230             99           1476           5600            1700   \n",
      "3         14343            362           1084           5075            3378   \n",
      "4         44362            795            861           5414            9173   \n",
      "\n",
      "   total_weights  average_weight  \n",
      "0           2562          3.4785  \n",
      "1           1423          3.8939  \n",
      "2            777          3.7761  \n",
      "3           1642          4.1590  \n",
      "4           5213          3.2943  \n"
     ]
    }
   ],
   "source": [
    "import pandas as pd\n",
    "import numpy as np\n",
    "board_games = pd.read_csv('board_games.csv')\n",
    "print(board_games.head())"
   ]
  },
  {
   "cell_type": "code",
   "execution_count": 3,
   "metadata": {
    "collapsed": true
   },
   "outputs": [],
   "source": [
    "board_games = board_games.dropna(axis=0)\n",
    "board_games = board_games[board_games['users_rated'] > 0]"
   ]
  },
  {
   "cell_type": "code",
   "execution_count": 9,
   "metadata": {
    "collapsed": false
   },
   "outputs": [
    {
     "name": "stdout",
     "output_type": "stream",
     "text": [
      "       id       type                                       name  \\\n",
      "0   12333  boardgame                          Twilight Struggle   \n",
      "1  120677  boardgame                              Terra Mystica   \n",
      "2  102794  boardgame                  Caverna: The Cave Farmers   \n",
      "3   25613  boardgame  Through the Ages: A Story of Civilization   \n",
      "4    3076  boardgame                                Puerto Rico   \n",
      "\n",
      "   yearpublished  minplayers  maxplayers  playingtime  minplaytime  \\\n",
      "0         2005.0         2.0         2.0        180.0        180.0   \n",
      "1         2012.0         2.0         5.0        150.0         60.0   \n",
      "2         2013.0         1.0         7.0        210.0         30.0   \n",
      "3         2006.0         2.0         4.0        240.0        240.0   \n",
      "4         2002.0         2.0         5.0        150.0         90.0   \n",
      "\n",
      "   maxplaytime  minage  users_rated  average_rating  bayes_average_rating  \\\n",
      "0        180.0    13.0        20113         8.33774               8.22186   \n",
      "1        150.0    12.0        14383         8.28798               8.14232   \n",
      "2        210.0    12.0         9262         8.28994               8.06886   \n",
      "3        240.0    12.0        13294         8.20407               8.05804   \n",
      "4        150.0    12.0        39883         8.14261               8.04524   \n",
      "\n",
      "   total_owners  total_traders  total_wanters  total_wishers  total_comments  \\\n",
      "0         26647            372           1219           5865            5347   \n",
      "1         16519            132           1586           6277            2526   \n",
      "2         12230             99           1476           5600            1700   \n",
      "3         14343            362           1084           5075            3378   \n",
      "4         44362            795            861           5414            9173   \n",
      "\n",
      "   total_weights  average_weight  \n",
      "0           2562          3.4785  \n",
      "1           1423          3.8939  \n",
      "2            777          3.7761  \n",
      "3           1642          4.1590  \n",
      "4           5213          3.2943  \n"
     ]
    }
   ],
   "source": [
    "print(board_games.head())"
   ]
  },
  {
   "cell_type": "code",
   "execution_count": 4,
   "metadata": {
    "collapsed": false
   },
   "outputs": [
    {
     "data": {
      "image/png": "[encoded data removed]",
      "text/plain": [
       "<matplotlib.figure.Figure at 0x11a497cc0>"
      ]
     },
     "metadata": {},
     "output_type": "display_data"
    }
   ],
   "source": [
    "average_ratings = board_games['average_rating']\n",
    "import matplotlib.pyplot as plt\n",
    "%matplotlib inline\n",
    "\n",
    "plt.hist(average_ratings)\n",
    "plt.show()"
   ]
  },
  {
   "cell_type": "code",
   "execution_count": 5,
   "metadata": {
    "collapsed": false
   },
   "outputs": [
    {
     "name": "stdout",
     "output_type": "stream",
     "text": [
      "1.5788299348332662\n",
      "6.016112849333889\n"
     ]
    }
   ],
   "source": [
    "print(average_ratings.std())\n",
    "print(average_ratings.mean())"
   ]
  },
  {
   "cell_type": "code",
   "execution_count": 6,
   "metadata": {
    "collapsed": true
   },
   "outputs": [],
   "source": [
    "from sklearn.metrics import mean_squared_error\n",
    "from sklearn.cluster import KMeans\n",
    "kmeans_model = KMeans(n_clusters=5, random_state=1)\n",
    "numeric_columns = board_games.iloc[:,3:]"
   ]
  },
  {
   "cell_type": "code",
   "execution_count": 7,
   "metadata": {
    "collapsed": false
   },
   "outputs": [
    {
     "data": {
      "text/plain": [
       "KMeans(algorithm='auto', copy_x=True, init='k-means++', max_iter=300,\n",
       "    n_clusters=5, n_init=10, n_jobs=1, precompute_distances='auto',\n",
       "    random_state=1, tol=0.0001, verbose=0)"
      ]
     },
     "execution_count": 7,
     "metadata": {},
     "output_type": "execute_result"
    }
   ],
   "source": [
    "kmeans_model.fit(numeric_columns)"
   ]
  },
  {
   "cell_type": "code",
   "execution_count": 8,
   "metadata": {
    "collapsed": false
   },
   "outputs": [
    {
     "name": "stdout",
     "output_type": "stream",
     "text": [
      "[1 1 1 ..., 0 0 0]\n"
     ]
    }
   ],
   "source": [
    "labels = kmeans_model.labels_\n",
    "print(labels)"
   ]
  },
  {
   "cell_type": "code",
   "execution_count": 9,
   "metadata": {
    "collapsed": true
   },
   "outputs": [],
   "source": [
    "game_mean = numeric_columns.apply(np.mean, axis=1)"
   ]
  },
  {
   "cell_type": "code",
   "execution_count": 17,
   "metadata": {
    "collapsed": false
   },
   "outputs": [
    {
     "name": "stdout",
     "output_type": "stream",
     "text": [
      "0        4478.431293\n",
      "1        3088.451729\n",
      "2        2259.009636\n",
      "3        2852.172936\n",
      "4        7580.177296\n",
      "5        7869.269574\n",
      "6        3488.818294\n",
      "7        3080.732679\n",
      "8        3250.362364\n",
      "9        3246.403405\n",
      "10       6632.371274\n",
      "11       1255.041491\n",
      "12       1060.583884\n",
      "13       2667.186476\n",
      "14       3167.116141\n",
      "15       1824.625254\n",
      "16       2471.526979\n",
      "17       2269.558746\n",
      "18       7085.071643\n",
      "19       3682.607443\n",
      "20       1568.860090\n",
      "21       3787.645789\n",
      "22       2217.973394\n",
      "23       5597.606346\n",
      "24       2641.436587\n",
      "25       3073.474584\n",
      "26       2084.640816\n",
      "27       3988.717611\n",
      "28       3997.052251\n",
      "29       2680.055045\n",
      "            ...     \n",
      "81134      11.571429\n",
      "81160       5.571429\n",
      "81162       7.214286\n",
      "81176      18.657143\n",
      "81177      18.657143\n",
      "81178      18.414286\n",
      "81179      18.636905\n",
      "81180      18.636905\n",
      "81181      18.571429\n",
      "81184      18.357143\n",
      "81188       5.714286\n",
      "81190      19.714286\n",
      "81192       8.500000\n",
      "81193       8.250000\n",
      "81195       4.000000\n",
      "81198       6.357143\n",
      "81199      10.142857\n",
      "81204       6.721429\n",
      "81234       6.714286\n",
      "81249       4.285714\n",
      "81254       6.607143\n",
      "81255       7.196429\n",
      "81256       7.000000\n",
      "81257       6.928571\n",
      "81258       7.285714\n",
      "81260       7.428571\n",
      "81261       7.642857\n",
      "81263       7.785714\n",
      "81278       1.928571\n",
      "81279      12.178571\n",
      "dtype: float64\n"
     ]
    }
   ],
   "source": [
    "print(game_mean)"
   ]
  },
  {
   "cell_type": "code",
   "execution_count": 11,
   "metadata": {
    "collapsed": false
   },
   "outputs": [
    {
     "name": "stdout",
     "output_type": "stream",
     "text": [
      "0         7450.209585\n",
      "1         4933.084135\n",
      "2         3514.218155\n",
      "3         4367.915199\n",
      "4        13321.625345\n",
      "5        13835.712890\n",
      "6         6430.891699\n",
      "7         5080.012838\n",
      "8         5735.631563\n",
      "9         5276.607380\n",
      "10       11541.097552\n",
      "11        2158.283722\n",
      "12        1690.110390\n",
      "13        4323.936728\n",
      "14        5080.990786\n",
      "15        2824.992056\n",
      "16        4127.594817\n",
      "17        3738.144858\n",
      "18       12989.620958\n",
      "19        5986.346082\n",
      "20        2466.262948\n",
      "21        7315.464445\n",
      "22        3361.624754\n",
      "23        9882.541264\n",
      "24        5116.821634\n",
      "25        4942.324699\n",
      "26        3592.078960\n",
      "27        7023.556700\n",
      "28        6861.827535\n",
      "29        4090.325069\n",
      "             ...     \n",
      "81134      471.986056\n",
      "81160      473.015863\n",
      "81162       10.030749\n",
      "81176      470.714437\n",
      "81177      470.708563\n",
      "81178      470.759273\n",
      "81179      470.713910\n",
      "81180      470.713910\n",
      "81181      470.734316\n",
      "81184      471.273149\n",
      "81188      472.947710\n",
      "81190      470.967399\n",
      "81192      472.384630\n",
      "81193      472.432002\n",
      "81195      473.157245\n",
      "81198      472.814089\n",
      "81199      472.407945\n",
      "81204      472.391301\n",
      "81234      472.751030\n",
      "81249      472.734166\n",
      "81254      472.846881\n",
      "81255      472.723241\n",
      "81256      472.764527\n",
      "81257      472.777994\n",
      "81258      472.705604\n",
      "81260      472.680950\n",
      "81261      472.640737\n",
      "81263      472.617126\n",
      "81278      472.966015\n",
      "81279      471.914506\n",
      "dtype: float64\n"
     ]
    }
   ],
   "source": [
    "game_std = numeric_columns.apply(np.std, axis=1)\n",
    "print(game_std)"
   ]
  },
  {
   "cell_type": "code",
   "execution_count": 12,
   "metadata": {
    "collapsed": false
   },
   "outputs": [
    {
     "data": {
      "image/png": "[encoded data removed]",
      "text/plain": [
       "<matplotlib.figure.Figure at 0x117a5fcc0>"
      ]
     },
     "metadata": {},
     "output_type": "display_data"
    }
   ],
   "source": [
    "plt.scatter(x=game_mean,y=game_std, c=labels)\n",
    "plt.show()"
   ]
  },
  {
   "cell_type": "code",
   "execution_count": 13,
   "metadata": {
    "collapsed": false
   },
   "outputs": [
    {
     "name": "stdout",
     "output_type": "stream",
     "text": [
      "id                      0.304201\n",
      "yearpublished           0.108461\n",
      "minplayers             -0.032701\n",
      "maxplayers             -0.008335\n",
      "playingtime             0.048994\n",
      "minplaytime             0.043985\n",
      "maxplaytime             0.048994\n",
      "minage                  0.210049\n",
      "users_rated             0.112564\n",
      "average_rating          1.000000\n",
      "bayes_average_rating    0.231563\n",
      "total_owners            0.137478\n",
      "total_traders           0.119452\n",
      "total_wanters           0.196566\n",
      "total_wishers           0.171375\n",
      "total_comments          0.123714\n",
      "total_weights           0.109691\n",
      "average_weight          0.351081\n",
      "Name: average_rating, dtype: float64\n"
     ]
    }
   ],
   "source": [
    "correlations = board_games.corr()\n",
    "print(correlations['average_rating'])"
   ]
  },
  {
   "cell_type": "code",
   "execution_count": null,
   "metadata": {
    "collapsed": false
   },
   "outputs": [],
   "source": []
  },
  {
   "cell_type": "code",
   "execution_count": 14,
   "metadata": {
    "collapsed": false
   },
   "outputs": [
    {
     "name": "stdout",
     "output_type": "stream",
     "text": [
      "2.1405805187\n"
     ]
    }
   ],
   "source": [
    "from sklearn.linear_model import LinearRegression\n",
    "model = LinearRegression()\n",
    "cols = ['yearpublished','minage','average_weight']\n",
    "model.fit(board_games[cols], board_games['average_rating'])\n",
    "predictions = model.predict(board_games[cols])\n",
    "mse = mean_squared_error(board_games['average_rating'], predictions)\n",
    "print(mse)"
   ]
  },
  {
   "cell_type": "code",
   "execution_count": 16,
   "metadata": {
    "collapsed": false
   },
   "outputs": [],
   "source": [
    "board_games['player_range'] = board_games['maxplayers'] - board_games['minplayers']\n",
    "board_games['time_range'] = board_games['maxplaytime'] - board_games['minplaytime']\n",
    "board_games['avg. rating'] = board_games['total_owners']/board_games['users_rated']"
   ]
  },
  {
   "cell_type": "code",
   "execution_count": 17,
   "metadata": {
    "collapsed": false
   },
   "outputs": [
    {
     "name": "stdout",
     "output_type": "stream",
     "text": [
      "       id       type                                       name  \\\n",
      "0   12333  boardgame                          Twilight Struggle   \n",
      "1  120677  boardgame                              Terra Mystica   \n",
      "2  102794  boardgame                  Caverna: The Cave Farmers   \n",
      "3   25613  boardgame  Through the Ages: A Story of Civilization   \n",
      "4    3076  boardgame                                Puerto Rico   \n",
      "\n",
      "   yearpublished  minplayers  maxplayers  playingtime  minplaytime  \\\n",
      "0         2005.0         2.0         2.0        180.0        180.0   \n",
      "1         2012.0         2.0         5.0        150.0         60.0   \n",
      "2         2013.0         1.0         7.0        210.0         30.0   \n",
      "3         2006.0         2.0         4.0        240.0        240.0   \n",
      "4         2002.0         2.0         5.0        150.0         90.0   \n",
      "\n",
      "   maxplaytime  minage     ...       total_owners  total_traders  \\\n",
      "0        180.0    13.0     ...              26647            372   \n",
      "1        150.0    12.0     ...              16519            132   \n",
      "2        210.0    12.0     ...              12230             99   \n",
      "3        240.0    12.0     ...              14343            362   \n",
      "4        150.0    12.0     ...              44362            795   \n",
      "\n",
      "   total_wanters  total_wishers  total_comments  total_weights  \\\n",
      "0           1219           5865            5347           2562   \n",
      "1           1586           6277            2526           1423   \n",
      "2           1476           5600            1700            777   \n",
      "3           1084           5075            3378           1642   \n",
      "4            861           5414            9173           5213   \n",
      "\n",
      "   average_weight  player_range  time_range  avg. rating  \n",
      "0          3.4785           0.0         0.0     1.324865  \n",
      "1          3.8939           3.0        90.0     1.148509  \n",
      "2          3.7761           6.0       180.0     1.320449  \n",
      "3          4.1590           2.0         0.0     1.078908  \n",
      "4          3.2943           3.0        60.0     1.112303  \n",
      "\n",
      "[5 rows x 23 columns]\n"
     ]
    }
   ],
   "source": [
    "print(board_games.head())"
   ]
  },
  {
   "cell_type": "code",
   "execution_count": 20,
   "metadata": {
    "collapsed": false
   },
   "outputs": [
    {
     "name": "stdout",
     "output_type": "stream",
     "text": [
      "56918\n",
      "24394\n"
     ]
    }
   ],
   "source": [
    "# Dividing the dataset into train(70) and test(30)\n",
    "shuffled_rows = np.random.permutation(board_games.index)\n",
    "shuffled_games = board_games.iloc[shuffled_rows]\n",
    "highest_train_row = int(shuffled_games.shape[0]*0.70)\n",
    "train = shuffled_games.iloc[0:highest_train_row]\n",
    "test = shuffled_games.iloc[highest_train_row:]\n",
    "print(train.shape[0])\n",
    "print(test.shape[0])"
   ]
  },
  {
   "cell_type": "code",
   "execution_count": 22,
   "metadata": {
    "collapsed": false
   },
   "outputs": [
    {
     "data": {
      "text/plain": [
       "['id',\n",
       " 'type',\n",
       " 'name',\n",
       " 'yearpublished',\n",
       " 'minplayers',\n",
       " 'maxplayers',\n",
       " 'playingtime',\n",
       " 'minplaytime',\n",
       " 'maxplaytime',\n",
       " 'minage',\n",
       " 'users_rated',\n",
       " 'average_rating',\n",
       " 'bayes_average_rating',\n",
       " 'total_owners',\n",
       " 'total_traders',\n",
       " 'total_wanters',\n",
       " 'total_wishers',\n",
       " 'total_comments',\n",
       " 'total_weights',\n",
       " 'average_weight']"
      ]
     },
     "execution_count": 22,
     "metadata": {},
     "output_type": "execute_result"
    }
   ],
   "source": [
    "list(board_games.columns)"
   ]
  },
  {
   "cell_type": "code",
   "execution_count": 23,
   "metadata": {
    "collapsed": false
   },
   "outputs": [
    {
     "name": "stdout",
     "output_type": "stream",
     "text": [
      "id                     -0.083589\n",
      "yearpublished           0.191931\n",
      "minplayers              0.009179\n",
      "maxplayers             -0.004300\n",
      "playingtime             0.053804\n",
      "minplaytime             0.052346\n",
      "maxplaytime             0.053804\n",
      "minage                  0.240032\n",
      "users_rated             0.131803\n",
      "average_rating          1.000000\n",
      "bayes_average_rating    0.386627\n",
      "total_owners            0.161397\n",
      "total_traders           0.186959\n",
      "total_wanters           0.204421\n",
      "total_wishers           0.176191\n",
      "total_comments          0.154758\n",
      "total_weights           0.130914\n",
      "average_weight          0.554294\n",
      "Name: average_rating, dtype: float64\n"
     ]
    }
   ],
   "source": [
    "correlations = board_games.corr()\n",
    "print(correlations['average_rating'])"
   ]
  },
  {
   "cell_type": "code",
   "execution_count": 28,
   "metadata": {
    "collapsed": false
   },
   "outputs": [
    {
     "data": {
      "image/png": "[encoded data removed]",
      "text/plain": [
       "<matplotlib.figure.Figure at 0x11e9bafd0>"
      ]
     },
     "metadata": {},
     "output_type": "display_data"
    }
   ],
   "source": [
    "plt.scatter(board_games['bayes_average_rating'], board_games['average_rating'])\n",
    "plt.show()"
   ]
  },
  {
   "cell_type": "code",
   "execution_count": 30,
   "metadata": {
    "collapsed": false
   },
   "outputs": [
    {
     "name": "stdout",
     "output_type": "stream",
     "text": [
      "                            OLS Regression Results                            \n",
      "==============================================================================\n",
      "Dep. Variable:         average_rating   R-squared:                       0.149\n",
      "Model:                            OLS   Adj. R-squared:                  0.149\n",
      "Method:                 Least Squares   F-statistic:                 1.429e+04\n",
      "Date:                Fri, 03 Mar 2017   Prob (F-statistic):               0.00\n",
      "Time:                        02:25:24   Log-Likelihood:            -1.9964e+05\n",
      "No. Observations:               81312   AIC:                         3.993e+05\n",
      "Df Residuals:                   81310   BIC:                         3.993e+05\n",
      "Df Model:                           1                                         \n",
      "Covariance Type:            nonrobust                                         \n",
      "========================================================================================\n",
      "                           coef    std err          t      P>|t|      [95.0% Conf. Int.]\n",
      "----------------------------------------------------------------------------------------\n",
      "const                    3.6275      0.011    328.906      0.000         3.606     3.649\n",
      "bayes_average_rating     0.5050      0.004    119.542      0.000         0.497     0.513\n",
      "==============================================================================\n",
      "Omnibus:                    81140.633   Durbin-Watson:                   1.631\n",
      "Prob(Omnibus):                  0.000   Jarque-Bera (JB):             4980.500\n",
      "Skew:                          -0.009   Prob(JB):                         0.00\n",
      "Kurtosis:                       1.788   Cond. No.                         3.01\n",
      "==============================================================================\n",
      "\n",
      "Warnings:\n",
      "[1] Standard Errors assume that the covariance matrix of the errors is correctly specified.\n"
     ]
    }
   ],
   "source": [
    "#  Fitting an alternate linear model\n",
    "import statsmodels.api as sm\n",
    "y = board_games['average_rating']\n",
    "x = board_games['bayes_average_rating']\n",
    "x = sm.add_constant(x)\n",
    "\n",
    "linear = sm.OLS(y, x)\n",
    "linearfit = linear.fit()\n",
    "print(linearfit.summary())\n"
   ]
  },
  {
   "cell_type": "code",
   "execution_count": null,
   "metadata": {
    "collapsed": true
   },
   "outputs": [],
   "source": []
  }
 ],
 "metadata": {
  "kernelspec": {
   "display_name": "Python 3",
   "language": "python",
   "name": "python3"
  },
  "language_info": {
   "codemirror_mode": {
    "name": "ipython",
    "version": 3
   },
   "file_extension": ".py",
   "mimetype": "text/x-python",
   "name": "python",
   "nbconvert_exporter": "python",
   "pygments_lexer": "ipython3",
   "version": "3.6.0"
  }
 },
 "nbformat": 4,
 "nbformat_minor": 0
}
